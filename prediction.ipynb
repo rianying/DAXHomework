{
 "cells": [
  {
   "cell_type": "code",
   "execution_count": null,
   "metadata": {},
   "outputs": [],
   "source": [
    "import pandas as pd\n",
    "import matplotlib.pyplot as plt\n",
    "import seaborn as sns\n",
    "from sklearn.ensemble import GradientBoostingRegressor\n",
    "from sklearn.model_selection import GridSearchCV\n",
    "from sklearn.pipeline import make_pipeline\n",
    "from sklearn.preprocessing import StandardScaler"
   ]
  },
  {
   "cell_type": "code",
   "execution_count": null,
   "metadata": {},
   "outputs": [],
   "source": [
    "# Load data\n",
    "data = pd.read_csv('/path_to_your_data/Data.csv')\n"
   ]
  },
  {
   "cell_type": "code",
   "execution_count": null,
   "metadata": {},
   "outputs": [],
   "source": [
    "# Preprocess data: Remove potential outliers\n",
    "filtered_data = data[data['Math'] >= 10]"
   ]
  },
  {
   "cell_type": "code",
   "execution_count": null,
   "metadata": {},
   "outputs": [],
   "source": [
    "# Define predictors and target\n",
    "X_filtered = filtered_data[['Pysics', 'Science', 'Statistics']]\n",
    "y_filtered = filtered_data['Math']"
   ]
  },
  {
   "cell_type": "code",
   "execution_count": null,
   "metadata": {},
   "outputs": [],
   "source": [
    "# Initialize a Gradient Boosting model\n",
    "gb_model_base = make_pipeline(StandardScaler(), GradientBoostingRegressor(random_state=42))\n"
   ]
  },
  {
   "cell_type": "code",
   "execution_count": null,
   "metadata": {},
   "outputs": [],
   "source": [
    "# Simplified parameter grid\n",
    "simple_param_grid = {\n",
    "    'gradientboostingregressor__n_estimators': [50, 100],\n",
    "    'gradientboostingregressor__learning_rate': [0.01, 0.1],\n",
    "    'gradientboostingregressor__max_depth': [3, 5],\n",
    "    'gradientboostingregressor__min_samples_split': [2, 4],\n",
    "    'gradientboostingregressor__min_samples_leaf': [1, 3]\n",
    "}\n"
   ]
  },
  {
   "cell_type": "code",
   "execution_count": null,
   "metadata": {},
   "outputs": [],
   "source": [
    "# Initialize Grid Search with simplified grid\n",
    "simple_grid_search = GridSearchCV(gb_model_base, simple_param_grid, \n",
    "                                  cv=5, scoring='r2', n_jobs=-1)"
   ]
  },
  {
   "cell_type": "code",
   "execution_count": null,
   "metadata": {},
   "outputs": [],
   "source": [
    "# Fit model\n",
    "simple_grid_search.fit(X_filtered, y_filtered)\n"
   ]
  },
  {
   "cell_type": "code",
   "execution_count": null,
   "metadata": {},
   "outputs": [],
   "source": [
    "# Generate predictions using the best model\n",
    "best_gb_predictions = simple_grid_search.predict(X_filtered)\n"
   ]
  },
  {
   "cell_type": "code",
   "execution_count": null,
   "metadata": {},
   "outputs": [],
   "source": [
    "# Create a DataFrame to compare actual vs. predicted values\n",
    "comparison_gb_best = pd.DataFrame({'Actual': y_filtered, 'Predicted': best_gb_predictions})\n"
   ]
  },
  {
   "cell_type": "code",
   "execution_count": null,
   "metadata": {},
   "outputs": [],
   "source": [
    "# Export the predictions to a CSV file\n",
    "comparison_gb_best.to_csv('/path_to_save_location/predicted_math_scores.csv', index=False)\n"
   ]
  },
  {
   "cell_type": "code",
   "execution_count": null,
   "metadata": {},
   "outputs": [],
   "source": [
    "# Visualizing actual vs. predicted scores and residuals\n",
    "plt.figure(figsize=(14, 6))\n",
    "\n",
    "plt.subplot(1, 2, 1)\n",
    "sns.scatterplot(x='Actual', y='Predicted', data=comparison_gb_best)\n",
    "plt.plot([20, 100], [20, 100], color='red', linestyle='--')\n",
    "plt.title('Actual vs. Predicted Math Scores (Gradient Boosting)')\n",
    "plt.xlabel('Actual Scores')\n",
    "plt.ylabel('Predicted Scores')\n",
    "\n",
    "plt.subplot(1, 2, 2)\n",
    "sns.histplot(comparison_gb_best['Residuals'], bins=20, kde=True)\n",
    "plt.title('Distribution of Residuals (Gradient Boosting)')\n",
    "plt.xlabel('Residuals')\n",
    "\n",
    "plt.tight_layout()\n",
    "plt.show()"
   ]
  }
 ],
 "metadata": {
  "kernelspec": {
   "display_name": "Python 3",
   "language": "python",
   "name": "python3"
  },
  "language_info": {
   "name": "python",
   "version": "3.9.6"
  },
  "orig_nbformat": 4
 },
 "nbformat": 4,
 "nbformat_minor": 2
}
